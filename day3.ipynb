{
  "nbformat": 4,
  "nbformat_minor": 0,
  "metadata": {
    "colab": {
      "provenance": []
    },
    "kernelspec": {
      "name": "python3",
      "display_name": "Python 3"
    },
    "language_info": {
      "name": "python"
    }
  },
  "cells": [
    {
      "cell_type": "markdown",
      "source": [
        "# List. Tuple, Dictionary"
      ],
      "metadata": {
        "id": "mUqt7W0CrFdq"
      }
    },
    {
      "cell_type": "code",
      "execution_count": 3,
      "metadata": {
        "colab": {
          "base_uri": "https://localhost:8080/"
        },
        "id": "NVPJ1Uhoqxrl",
        "outputId": "394937f5-2809-4733-e594-9c69b67942e7"
      },
      "outputs": [
        {
          "output_type": "stream",
          "name": "stdout",
          "text": [
            "[1, 2, 3] <class 'list'>\n"
          ]
        }
      ],
      "source": [
        "my_list = [1, 2, 3]\n",
        "\n",
        "\n",
        "print(my_list, type(my_list))\n",
        "\n"
      ]
    },
    {
      "cell_type": "code",
      "source": [
        "my_list = [1, 2.45, \"Adam\", [20, \"Vijay\"]]\n",
        "\n",
        "# Find the length of any iterator\n",
        "len(my_list)\n",
        "\n"
      ],
      "metadata": {
        "colab": {
          "base_uri": "https://localhost:8080/"
        },
        "id": "J1wsJn-qstB9",
        "outputId": "7bcd7644-f817-4967-db56-44a149c5678b"
      },
      "execution_count": 13,
      "outputs": [
        {
          "output_type": "execute_result",
          "data": {
            "text/plain": [
              "4"
            ]
          },
          "metadata": {},
          "execution_count": 13
        }
      ]
    },
    {
      "cell_type": "code",
      "source": [
        "my_list[3][1]\n",
        "\n"
      ],
      "metadata": {
        "colab": {
          "base_uri": "https://localhost:8080/",
          "height": 36
        },
        "id": "z8HMQHS2tt6j",
        "outputId": "24fccba8-e90e-4127-e5e4-a66d3b50d300"
      },
      "execution_count": 14,
      "outputs": [
        {
          "output_type": "execute_result",
          "data": {
            "text/plain": [
              "'Vijay'"
            ],
            "application/vnd.google.colaboratory.intrinsic+json": {
              "type": "string"
            }
          },
          "metadata": {},
          "execution_count": 14
        }
      ]
    },
    {
      "cell_type": "markdown",
      "source": [
        "# Append & Extend"
      ],
      "metadata": {
        "id": "4kOIc0_jwDa2"
      }
    },
    {
      "cell_type": "code",
      "source": [
        "my_list.append([\"Krishna\", 206])\n",
        "\n",
        "print(my_list)\n"
      ],
      "metadata": {
        "colab": {
          "base_uri": "https://localhost:8080/"
        },
        "id": "ZLk8DuVit4qd",
        "outputId": "7a2c8c97-6d97-44e5-d14e-f533ee6db281"
      },
      "execution_count": 15,
      "outputs": [
        {
          "output_type": "stream",
          "name": "stdout",
          "text": [
            "[1, 2.45, 'Adam', [20, 'Vijay'], ['Krishna', 206]]\n"
          ]
        }
      ]
    },
    {
      "cell_type": "code",
      "source": [
        "my_list.append(10)\n",
        "\n",
        "print(my_list)\n",
        "\n"
      ],
      "metadata": {
        "colab": {
          "base_uri": "https://localhost:8080/"
        },
        "id": "7Zbnz0v9v-99",
        "outputId": "fbad3e21-b9ba-4a65-8c35-431d96bf9a0e"
      },
      "execution_count": 16,
      "outputs": [
        {
          "output_type": "stream",
          "name": "stdout",
          "text": [
            "[1, 2.45, 'Adam', [20, 'Vijay'], ['Krishna', 206], 10]\n"
          ]
        }
      ]
    },
    {
      "cell_type": "code",
      "source": [
        "my_list.extend([\"Krishna\", 206])\n",
        "\n",
        "print(my_list)"
      ],
      "metadata": {
        "colab": {
          "base_uri": "https://localhost:8080/"
        },
        "id": "eDljCrDXwTwv",
        "outputId": "f28e9973-2c94-4c4e-9289-7c38271c0cf8"
      },
      "execution_count": 18,
      "outputs": [
        {
          "output_type": "stream",
          "name": "stdout",
          "text": [
            "[1, 2.45, 'Adam', [20, 'Vijay'], ['Krishna', 206], 10, 'Krishna', 206]\n"
          ]
        }
      ]
    },
    {
      "cell_type": "code",
      "source": [
        "my_list.extend([[1,2, 3], [4, 5]])\n",
        "\n",
        "print(my_list)\n"
      ],
      "metadata": {
        "colab": {
          "base_uri": "https://localhost:8080/"
        },
        "id": "Rnyqxh85wgAG",
        "outputId": "b66ef7c0-1cda-451c-949e-197c1faf620a"
      },
      "execution_count": 20,
      "outputs": [
        {
          "output_type": "stream",
          "name": "stdout",
          "text": [
            "[1, 2.45, 'Adam', [20, 'Vijay'], ['Krishna', 206], 10, 'Krishna', 206, [1, 2, 3], [4, 5]]\n"
          ]
        }
      ]
    },
    {
      "cell_type": "markdown",
      "source": [
        "# Deep Copy and Shallow Copy"
      ],
      "metadata": {
        "id": "rrsrkGeBxqi4"
      }
    },
    {
      "cell_type": "code",
      "source": [
        "a = [1, 2, 3, 4]\n",
        "\n",
        "b = a\n",
        "\n",
        "print(a)\n",
        "print(b)\n",
        "\n",
        "\n"
      ],
      "metadata": {
        "colab": {
          "base_uri": "https://localhost:8080/"
        },
        "id": "rs8Pu5EFxnvy",
        "outputId": "ecff2c68-1d8f-48cb-91f4-9439a19c4016"
      },
      "execution_count": 24,
      "outputs": [
        {
          "output_type": "stream",
          "name": "stdout",
          "text": [
            "[1, 2, 3, 4]\n",
            "[1, 2, 3, 4]\n"
          ]
        }
      ]
    },
    {
      "cell_type": "code",
      "source": [
        "a[0] = 100\n",
        "\n",
        "print(a)\n",
        "print(b)"
      ],
      "metadata": {
        "colab": {
          "base_uri": "https://localhost:8080/"
        },
        "id": "rBJJtUHFyDS3",
        "outputId": "f044565f-9794-48bf-ebb5-4e20b4e48faf"
      },
      "execution_count": 26,
      "outputs": [
        {
          "output_type": "stream",
          "name": "stdout",
          "text": [
            "[100, 2, 3, 4]\n",
            "[100, 2, 3, 4]\n"
          ]
        }
      ]
    },
    {
      "cell_type": "code",
      "source": [
        "c = a.copy() # shallow copy\n",
        "a[0] = 200\n",
        "\n",
        "print(a)\n",
        "print(c)"
      ],
      "metadata": {
        "colab": {
          "base_uri": "https://localhost:8080/"
        },
        "id": "sE9QH8r3ywoB",
        "outputId": "04576392-befe-4efd-f45f-5d3b415bb8e7"
      },
      "execution_count": 27,
      "outputs": [
        {
          "output_type": "stream",
          "name": "stdout",
          "text": [
            "[200, 2, 3, 4]\n",
            "[100, 2, 3, 4]\n"
          ]
        }
      ]
    },
    {
      "cell_type": "code",
      "source": [
        "d =  a[:] # shallow copy\n",
        "a[0] = 300\n",
        "\n",
        "print(a)  # [300, 2, 3, 4]\n",
        "print(d) # [200, 2, 3, 4]\n"
      ],
      "metadata": {
        "colab": {
          "base_uri": "https://localhost:8080/"
        },
        "id": "oaxM8_H_0oww",
        "outputId": "3ca8028f-a843-4978-b1b2-1acef3e1a54e"
      },
      "execution_count": 28,
      "outputs": [
        {
          "output_type": "stream",
          "name": "stdout",
          "text": [
            "[300, 2, 3, 4]\n",
            "[200, 2, 3, 4]\n"
          ]
        }
      ]
    },
    {
      "cell_type": "code",
      "source": [
        "l = [1, 2, 3 , [100,  200] ]\n",
        "\n",
        "# x = l.copy()\n",
        "\n",
        "# l[3] = 10\n",
        "\n",
        "# print(l)\n",
        "# print(x)\n"
      ],
      "metadata": {
        "id": "u7AoHiaR1nW2"
      },
      "execution_count": 37,
      "outputs": []
    },
    {
      "cell_type": "code",
      "source": [
        "x =l.copy()\n",
        "\n",
        "l[3][0] = 500\n",
        "\n",
        "print(l)\n",
        "print(x)"
      ],
      "metadata": {
        "colab": {
          "base_uri": "https://localhost:8080/"
        },
        "id": "d8AAVhVT2Uhw",
        "outputId": "eb8eabc8-a1a1-495a-dc34-c023df3191b5"
      },
      "execution_count": 38,
      "outputs": [
        {
          "output_type": "stream",
          "name": "stdout",
          "text": [
            "[1, 2, 3, [500, 200]]\n",
            "[1, 2, 3, [500, 200]]\n"
          ]
        }
      ]
    },
    {
      "cell_type": "code",
      "source": [
        "## Deep copy\n",
        "import copy\n",
        "\n",
        "l = [1, 2, 3 , [100,  200] ]\n",
        "\n",
        "x = copy.deepcopy(l)\n",
        "\n",
        "l[3][0] = 500\n",
        "\n",
        "print(l)\n",
        "print(x)\n",
        "\n"
      ],
      "metadata": {
        "colab": {
          "base_uri": "https://localhost:8080/"
        },
        "id": "IAb10GVq5iLU",
        "outputId": "be17fd50-a78e-447b-e886-279dc9bdc2ac"
      },
      "execution_count": 40,
      "outputs": [
        {
          "output_type": "stream",
          "name": "stdout",
          "text": [
            "[1, 2, 3, [500, 200]]\n",
            "[1, 2, 3, [100, 200]]\n"
          ]
        }
      ]
    },
    {
      "cell_type": "code",
      "source": [
        "a = [[[1,2,3], [4,5,6], [7, 8, 9]],\n",
        "     [[10, 20], [30, 40]]]"
      ],
      "metadata": {
        "id": "9_c1LzO46Rs6"
      },
      "execution_count": 41,
      "outputs": []
    },
    {
      "cell_type": "code",
      "source": [
        "a"
      ],
      "metadata": {
        "colab": {
          "base_uri": "https://localhost:8080/"
        },
        "id": "NjzKKpyL-PQc",
        "outputId": "b914ca40-a307-4214-b444-02ae772a2551"
      },
      "execution_count": 42,
      "outputs": [
        {
          "output_type": "execute_result",
          "data": {
            "text/plain": [
              "[[[1, 2, 3], [4, 5, 6], [7, 8, 9]], [[10, 20], [30, 40]]]"
            ]
          },
          "metadata": {},
          "execution_count": 42
        }
      ]
    },
    {
      "cell_type": "code",
      "source": [
        "b = a.copy()\n",
        "c = copy.deepcopy(a)\n",
        "\n",
        "a[0][0][0]= 1000\n",
        "\n",
        "print(a)\n",
        "print(b)\n",
        "print(c)"
      ],
      "metadata": {
        "colab": {
          "base_uri": "https://localhost:8080/"
        },
        "id": "tOo8YzSU-QeY",
        "outputId": "77f61063-1a80-4fb8-b55c-5ad022277132"
      },
      "execution_count": 43,
      "outputs": [
        {
          "output_type": "stream",
          "name": "stdout",
          "text": [
            "[[[1000, 2, 3], [4, 5, 6], [7, 8, 9]], [[10, 20], [30, 40]]]\n",
            "[[[1000, 2, 3], [4, 5, 6], [7, 8, 9]], [[10, 20], [30, 40]]]\n",
            "[[[1, 2, 3], [4, 5, 6], [7, 8, 9]], [[10, 20], [30, 40]]]\n"
          ]
        }
      ]
    },
    {
      "cell_type": "code",
      "source": [
        "a = [10, 8, 3, 7, 4, 11, 11]\n",
        "\n",
        "# sort method\n",
        "# In-place sort\n",
        "a.sort(reverse = True)\n",
        "\n",
        "# sorted function\n",
        "# Not in-place sort\n",
        "b = sorted(a, reverse = True)\n",
        "\n",
        "# Merge sort, Quick Sort, Heap Sort, Bubble sort\n",
        "\n",
        "print(a)\n",
        "print(b)"
      ],
      "metadata": {
        "colab": {
          "base_uri": "https://localhost:8080/"
        },
        "id": "3b2qjw1U_ryl",
        "outputId": "25a856f4-3ace-4233-d68c-72a0c59cf907"
      },
      "execution_count": 47,
      "outputs": [
        {
          "output_type": "stream",
          "name": "stdout",
          "text": [
            "[10, 8, 3, 7, 4, 11, 11]\n",
            "[11, 11, 10, 8, 7, 4, 3]\n"
          ]
        }
      ]
    },
    {
      "cell_type": "code",
      "source": [
        "c = [(10, 20), (1, 2), (4, 5), (100, 1), (99, 4)]\n",
        "\n",
        "c.sort(key = function)\n",
        "\n",
        "print(c)\n",
        "\n"
      ],
      "metadata": {
        "colab": {
          "base_uri": "https://localhost:8080/"
        },
        "id": "9xMW7C78B5Qu",
        "outputId": "7c039bdf-75ab-4b22-a13f-9fe487f82cf1"
      },
      "execution_count": 49,
      "outputs": [
        {
          "output_type": "stream",
          "name": "stdout",
          "text": [
            "[(1, 2), (4, 5), (10, 20), (99, 4), (100, 1)]\n"
          ]
        }
      ]
    },
    {
      "cell_type": "markdown",
      "source": [
        "# Lambda function"
      ],
      "metadata": {
        "id": "4J6ME35OFJ8T"
      }
    },
    {
      "cell_type": "code",
      "source": [
        "s = lambda num1, num2 : num1 + num2\n",
        "\n",
        "s(1, 2)"
      ],
      "metadata": {
        "colab": {
          "base_uri": "https://localhost:8080/"
        },
        "id": "O2i5OICOFIEu",
        "outputId": "18172739-0048-480d-89f2-f81a581fc39f"
      },
      "execution_count": 59,
      "outputs": [
        {
          "output_type": "execute_result",
          "data": {
            "text/plain": [
              "3"
            ]
          },
          "metadata": {},
          "execution_count": 59
        }
      ]
    },
    {
      "cell_type": "markdown",
      "source": [
        "# User Defined function"
      ],
      "metadata": {
        "id": "qq062eJ8Fkmp"
      }
    },
    {
      "cell_type": "code",
      "source": [
        "def sum_of_two_numbers(num1, num2):\n",
        "  sum_var = num1 + num2\n",
        "  return sum_var, num1, num2"
      ],
      "metadata": {
        "id": "Yjg-XltVJKGN"
      },
      "execution_count": null,
      "outputs": []
    },
    {
      "cell_type": "code",
      "source": [
        "def sum_of_two_numbers():\n",
        "  num1 = int(input(\"Enter the first number: \"))\n",
        "  num2 = int(input(\"Enter the second number : \"))\n",
        "  sum_var = num1 + num2\n",
        "  return sum_var, num1, num2\n",
        "\n",
        "\n",
        "sum_of_two_numbers()\n",
        "\n",
        "\n",
        "\n"
      ],
      "metadata": {
        "colab": {
          "base_uri": "https://localhost:8080/",
          "height": 365
        },
        "collapsed": true,
        "id": "DifmAKffFkNV",
        "outputId": "070fdf4b-5809-45fd-e81b-910da2e711be"
      },
      "execution_count": 66,
      "outputs": [
        {
          "name": "stdout",
          "output_type": "stream",
          "text": [
            "Enter the first number: a\n"
          ]
        },
        {
          "output_type": "error",
          "ename": "ValueError",
          "evalue": "invalid literal for int() with base 10: 'a'",
          "traceback": [
            "\u001b[0;31m---------------------------------------------------------------------------\u001b[0m",
            "\u001b[0;31mValueError\u001b[0m                                Traceback (most recent call last)",
            "\u001b[0;32m<ipython-input-66-6c05e0c49a89>\u001b[0m in \u001b[0;36m<cell line: 8>\u001b[0;34m()\u001b[0m\n\u001b[1;32m      6\u001b[0m \u001b[0;34m\u001b[0m\u001b[0m\n\u001b[1;32m      7\u001b[0m \u001b[0;34m\u001b[0m\u001b[0m\n\u001b[0;32m----> 8\u001b[0;31m \u001b[0msum_of_two_numbers\u001b[0m\u001b[0;34m(\u001b[0m\u001b[0;34m)\u001b[0m\u001b[0;34m\u001b[0m\u001b[0;34m\u001b[0m\u001b[0m\n\u001b[0m\u001b[1;32m      9\u001b[0m \u001b[0;34m\u001b[0m\u001b[0m\n\u001b[1;32m     10\u001b[0m \u001b[0;34m\u001b[0m\u001b[0m\n",
            "\u001b[0;32m<ipython-input-66-6c05e0c49a89>\u001b[0m in \u001b[0;36msum_of_two_numbers\u001b[0;34m()\u001b[0m\n\u001b[1;32m      1\u001b[0m \u001b[0;32mdef\u001b[0m \u001b[0msum_of_two_numbers\u001b[0m\u001b[0;34m(\u001b[0m\u001b[0;34m)\u001b[0m\u001b[0;34m:\u001b[0m\u001b[0;34m\u001b[0m\u001b[0;34m\u001b[0m\u001b[0m\n\u001b[0;32m----> 2\u001b[0;31m   \u001b[0mnum1\u001b[0m \u001b[0;34m=\u001b[0m \u001b[0mint\u001b[0m\u001b[0;34m(\u001b[0m\u001b[0minput\u001b[0m\u001b[0;34m(\u001b[0m\u001b[0;34m\"Enter the first number: \"\u001b[0m\u001b[0;34m)\u001b[0m\u001b[0;34m)\u001b[0m\u001b[0;34m\u001b[0m\u001b[0;34m\u001b[0m\u001b[0m\n\u001b[0m\u001b[1;32m      3\u001b[0m   \u001b[0mnum2\u001b[0m \u001b[0;34m=\u001b[0m \u001b[0mint\u001b[0m\u001b[0;34m(\u001b[0m\u001b[0minput\u001b[0m\u001b[0;34m(\u001b[0m\u001b[0;34m\"Enter the second number : \"\u001b[0m\u001b[0;34m)\u001b[0m\u001b[0;34m)\u001b[0m\u001b[0;34m\u001b[0m\u001b[0;34m\u001b[0m\u001b[0m\n\u001b[1;32m      4\u001b[0m   \u001b[0msum_var\u001b[0m \u001b[0;34m=\u001b[0m \u001b[0mnum1\u001b[0m \u001b[0;34m+\u001b[0m \u001b[0mnum2\u001b[0m\u001b[0;34m\u001b[0m\u001b[0;34m\u001b[0m\u001b[0m\n\u001b[1;32m      5\u001b[0m   \u001b[0;32mreturn\u001b[0m \u001b[0msum_var\u001b[0m\u001b[0;34m,\u001b[0m \u001b[0mnum1\u001b[0m\u001b[0;34m,\u001b[0m \u001b[0mnum2\u001b[0m\u001b[0;34m\u001b[0m\u001b[0;34m\u001b[0m\u001b[0m\n",
            "\u001b[0;31mValueError\u001b[0m: invalid literal for int() with base 10: 'a'"
          ]
        }
      ]
    },
    {
      "cell_type": "code",
      "source": [],
      "metadata": {
        "colab": {
          "base_uri": "https://localhost:8080/",
          "height": 36
        },
        "id": "DMYpocL0EmRa",
        "outputId": "a0a167a8-54eb-405e-85c0-2c3b36412b51"
      },
      "execution_count": 62,
      "outputs": [
        {
          "output_type": "execute_result",
          "data": {
            "text/plain": [
              "'/content'"
            ],
            "application/vnd.google.colaboratory.intrinsic+json": {
              "type": "string"
            }
          },
          "metadata": {},
          "execution_count": 62
        }
      ]
    },
    {
      "cell_type": "code",
      "source": [
        "int('c')"
      ],
      "metadata": {
        "colab": {
          "base_uri": "https://localhost:8080/",
          "height": 146
        },
        "id": "5b1KjfhoKk3D",
        "outputId": "197db1e7-70f9-4a65-8e73-2c76b7af65c8"
      },
      "execution_count": 65,
      "outputs": [
        {
          "output_type": "error",
          "ename": "ValueError",
          "evalue": "invalid literal for int() with base 10: 'c'",
          "traceback": [
            "\u001b[0;31m---------------------------------------------------------------------------\u001b[0m",
            "\u001b[0;31mValueError\u001b[0m                                Traceback (most recent call last)",
            "\u001b[0;32m<ipython-input-65-acab335649b2>\u001b[0m in \u001b[0;36m<cell line: 1>\u001b[0;34m()\u001b[0m\n\u001b[0;32m----> 1\u001b[0;31m \u001b[0mint\u001b[0m\u001b[0;34m(\u001b[0m\u001b[0;34m'c'\u001b[0m\u001b[0;34m)\u001b[0m\u001b[0;34m\u001b[0m\u001b[0;34m\u001b[0m\u001b[0m\n\u001b[0m",
            "\u001b[0;31mValueError\u001b[0m: invalid literal for int() with base 10: 'c'"
          ]
        }
      ]
    },
    {
      "cell_type": "code",
      "source": [],
      "metadata": {
        "id": "118dHaZdLJYy"
      },
      "execution_count": null,
      "outputs": []
    }
  ]
}