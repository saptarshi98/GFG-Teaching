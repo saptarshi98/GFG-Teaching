{
  "nbformat": 4,
  "nbformat_minor": 0,
  "metadata": {
    "colab": {
      "provenance": []
    },
    "kernelspec": {
      "name": "python3",
      "display_name": "Python 3"
    },
    "language_info": {
      "name": "python"
    }
  },
  "cells": [
    {
      "cell_type": "markdown",
      "source": [
        "# Split() method"
      ],
      "metadata": {
        "id": "zxkKuo6XSCJ6"
      }
    },
    {
      "cell_type": "code",
      "execution_count": 2,
      "metadata": {
        "colab": {
          "base_uri": "https://localhost:8080/"
        },
        "id": "weGEBkqjPoVF",
        "outputId": "9426a3e8-c2f8-4674-c658-30927568d147"
      },
      "outputs": [
        {
          "output_type": "execute_result",
          "data": {
            "text/plain": [
              "['www', 'google', 'com']"
            ]
          },
          "metadata": {},
          "execution_count": 2
        }
      ],
      "source": [
        "s = 'www.google.com'\n",
        "\n",
        "dns = s.split('.')\n",
        "dns"
      ]
    },
    {
      "cell_type": "code",
      "source": [
        "input_list = list(map(int, input(\"Enter your numbers: \").split(\" \")))"
      ],
      "metadata": {
        "colab": {
          "base_uri": "https://localhost:8080/"
        },
        "id": "mFBBJSWLSWAI",
        "outputId": "9883ac10-c826-4eca-82b9-b3ab6fbf6033"
      },
      "execution_count": 17,
      "outputs": [
        {
          "name": "stdout",
          "output_type": "stream",
          "text": [
            "Enter your numbers: 10 20 30 40\n"
          ]
        }
      ]
    },
    {
      "cell_type": "code",
      "source": [
        "input_list"
      ],
      "metadata": {
        "colab": {
          "base_uri": "https://localhost:8080/"
        },
        "id": "dW24c61VTAi0",
        "outputId": "b5bfa6ee-847c-4d75-a5e7-2d5fc3ef1aa3"
      },
      "execution_count": 18,
      "outputs": [
        {
          "output_type": "execute_result",
          "data": {
            "text/plain": [
              "[10, 20, 30, 40]"
            ]
          },
          "metadata": {},
          "execution_count": 18
        }
      ]
    },
    {
      "cell_type": "code",
      "source": [
        "int('10')"
      ],
      "metadata": {
        "colab": {
          "base_uri": "https://localhost:8080/"
        },
        "id": "luDxy9WCTGdQ",
        "outputId": "89ba523f-2f8d-4032-ff03-d9ab97031de0"
      },
      "execution_count": 14,
      "outputs": [
        {
          "output_type": "execute_result",
          "data": {
            "text/plain": [
              "10"
            ]
          },
          "metadata": {},
          "execution_count": 14
        }
      ]
    },
    {
      "cell_type": "markdown",
      "source": [
        "Object Oriented Programming"
      ],
      "metadata": {
        "id": "td4EYtfFW8UK"
      }
    },
    {
      "cell_type": "code",
      "source": [
        "class Student:\n",
        "  def __init__(self, n, a, list_of_subjects, i):\n",
        "    self.name = n\n",
        "    self.age = a\n",
        "    self.subjects = list_of_subjects\n",
        "    self.iq = i\n",
        "\n",
        "  def append_new_subject(self, new_subject):\n",
        "    subj = self.subjects\n",
        "    subj.append(new_subject)\n",
        "    return subj\n",
        "\n",
        "\n",
        "\n",
        "\n",
        "\n"
      ],
      "metadata": {
        "id": "1P5ULXOuTasz"
      },
      "execution_count": 42,
      "outputs": []
    },
    {
      "cell_type": "code",
      "source": [
        "student_object = Student(\"Ram\", 25, [\"Python\", \"DS\", \"DSA\"],  130)\n"
      ],
      "metadata": {
        "id": "6r_osgheZlLX"
      },
      "execution_count": 43,
      "outputs": []
    },
    {
      "cell_type": "code",
      "source": [
        "student_object.append_new_subject(\"ABC\")"
      ],
      "metadata": {
        "colab": {
          "base_uri": "https://localhost:8080/"
        },
        "id": "r-GYWjwBbtp7",
        "outputId": "537648a9-0459-42a1-faa2-90ba2bd5bf87"
      },
      "execution_count": 44,
      "outputs": [
        {
          "output_type": "execute_result",
          "data": {
            "text/plain": [
              "['Python', 'DS', 'DSA', 'ABC']"
            ]
          },
          "metadata": {},
          "execution_count": 44
        }
      ]
    },
    {
      "cell_type": "markdown",
      "source": [
        "## Inheritance"
      ],
      "metadata": {
        "id": "3SZlr90je_SS"
      }
    },
    {
      "cell_type": "code",
      "source": [
        "class Animal:\n",
        "  def __init__(self, no_of_legs, furs, tail):\n",
        "    self.legs = no_of_legs\n",
        "    self.furs = furs\n",
        "    self.tail = tail\n",
        "\n",
        "  def walk(self):\n",
        "    print(f\"This animal walks with {self.legs} legs\")\n",
        "\n",
        "  def run(self):\n",
        "    print(f\"This animal runs with {self.legs} legs\")\n",
        "\n"
      ],
      "metadata": {
        "id": "-Ztk-unqcU8V"
      },
      "execution_count": 45,
      "outputs": []
    },
    {
      "cell_type": "code",
      "source": [
        "a1 = Animal(no_of_legs=4, furs=True, tail=False)\n",
        "a1.walk()"
      ],
      "metadata": {
        "colab": {
          "base_uri": "https://localhost:8080/"
        },
        "id": "dFO5TdCsgTc2",
        "outputId": "c9923ac2-a67a-4499-d8d8-36a991bfa2f6"
      },
      "execution_count": 46,
      "outputs": [
        {
          "output_type": "stream",
          "name": "stdout",
          "text": [
            "This animal walks with 4 legs\n"
          ]
        }
      ]
    },
    {
      "cell_type": "code",
      "source": [
        "class Dog(Animal):\n",
        "  def __init__(self, no_of_legs, furs, tail, bark_sound):\n",
        "    super().__init__(self, no_of_legs, furs, tail)\n",
        "    self.bark_sound = bark_sound\n",
        "\n",
        "  def bark(self):\n",
        "    print(f\"The dog with {self.legs} legs can bark like {self.bark_sound}\")\n",
        "\n",
        "\n",
        "\n"
      ],
      "metadata": {
        "id": "WTCR2_6Qgb7w"
      },
      "execution_count": 47,
      "outputs": []
    },
    {
      "cell_type": "code",
      "source": [
        "dog = Dog(no_of_legs = 4, furs =True, tail = True, bark_sound = \"Bhow\")"
      ],
      "metadata": {
        "id": "NXpZmXrHjBsD"
      },
      "execution_count": 49,
      "outputs": []
    },
    {
      "cell_type": "code",
      "source": [
        "dog.bark()"
      ],
      "metadata": {
        "colab": {
          "base_uri": "https://localhost:8080/"
        },
        "id": "ksT6N3_YkZZU",
        "outputId": "947e045b-d678-44dc-b14a-c44bc6ae3271"
      },
      "execution_count": 50,
      "outputs": [
        {
          "output_type": "stream",
          "name": "stdout",
          "text": [
            "The dog with 4 legs can bark like Bhow\n"
          ]
        }
      ]
    },
    {
      "cell_type": "code",
      "source": [],
      "metadata": {
        "id": "0t-er97WkhEo"
      },
      "execution_count": null,
      "outputs": []
    }
  ]
}